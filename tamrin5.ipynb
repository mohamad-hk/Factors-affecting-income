{
  "nbformat": 4,
  "nbformat_minor": 0,
  "metadata": {
    "colab": {
      "provenance": [],
      "gpuType": "T4"
    },
    "kernelspec": {
      "name": "python3",
      "display_name": "Python 3"
    },
    "language_info": {
      "name": "python"
    },
    "accelerator": "GPU"
  },
  "cells": [
    {
      "cell_type": "markdown",
      "source": [
        "**Data Extraction**"
      ],
      "metadata": {
        "id": "iwLf0fWBQ8HS"
      }
    },
    {
      "cell_type": "code",
      "execution_count": null,
      "metadata": {
        "colab": {
          "base_uri": "https://localhost:8080/"
        },
        "id": "eO0yTJKONKPL",
        "outputId": "a40bd684-26c8-4076-9188-5b1110401aa9"
      },
      "outputs": [
        {
          "output_type": "stream",
          "name": "stdout",
          "text": [
            "Collecting ucimlrepo\n",
            "  Downloading ucimlrepo-0.0.7-py3-none-any.whl.metadata (5.5 kB)\n",
            "Requirement already satisfied: pandas>=1.0.0 in /usr/local/lib/python3.11/dist-packages (from ucimlrepo) (2.2.2)\n",
            "Requirement already satisfied: certifi>=2020.12.5 in /usr/local/lib/python3.11/dist-packages (from ucimlrepo) (2025.4.26)\n",
            "Requirement already satisfied: numpy>=1.23.2 in /usr/local/lib/python3.11/dist-packages (from pandas>=1.0.0->ucimlrepo) (2.0.2)\n",
            "Requirement already satisfied: python-dateutil>=2.8.2 in /usr/local/lib/python3.11/dist-packages (from pandas>=1.0.0->ucimlrepo) (2.9.0.post0)\n",
            "Requirement already satisfied: pytz>=2020.1 in /usr/local/lib/python3.11/dist-packages (from pandas>=1.0.0->ucimlrepo) (2025.2)\n",
            "Requirement already satisfied: tzdata>=2022.7 in /usr/local/lib/python3.11/dist-packages (from pandas>=1.0.0->ucimlrepo) (2025.2)\n",
            "Requirement already satisfied: six>=1.5 in /usr/local/lib/python3.11/dist-packages (from python-dateutil>=2.8.2->pandas>=1.0.0->ucimlrepo) (1.17.0)\n",
            "Downloading ucimlrepo-0.0.7-py3-none-any.whl (8.0 kB)\n",
            "Installing collected packages: ucimlrepo\n",
            "Successfully installed ucimlrepo-0.0.7\n"
          ]
        }
      ],
      "source": [
        "!pip install ucimlrepo"
      ]
    },
    {
      "cell_type": "code",
      "source": [
        "from ucimlrepo import fetch_ucirepo\n",
        "import pandas as pd\n",
        "import numpy as np\n",
        "import matplotlib.pyplot as plt\n",
        "import seaborn as sns"
      ],
      "metadata": {
        "id": "mMWRjJ98Qo1J"
      },
      "execution_count": null,
      "outputs": []
    },
    {
      "cell_type": "markdown",
      "source": [
        "خواندن دیتا و قرار دادن در یک فایل CSV\n"
      ],
      "metadata": {
        "id": "x0fPDc6FfVVG"
      }
    },
    {
      "cell_type": "code",
      "source": [
        "adult = fetch_ucirepo(id=2)\n",
        "df = adult.data.features.copy()\n",
        "df[\"income\"] = adult.data.targets[\"income\"]\n",
        "df.to_csv(\"adult.csv\", index=False)"
      ],
      "metadata": {
        "id": "lbLqywTDQskh"
      },
      "execution_count": 36,
      "outputs": []
    },
    {
      "cell_type": "markdown",
      "source": [
        "در این قسمت یک بررسی اولیه به داده ها می کنیم تا متوجه بشیم با چه نوع داده هایی مواجه هستیم"
      ],
      "metadata": {
        "id": "p21WAmaEfDb9"
      }
    },
    {
      "cell_type": "code",
      "source": [
        "df = pd.read_csv(\"adult.csv\")\n",
        "#df.info()\n",
        "#df.describe()\n",
        "#df.isna().sum()"
      ],
      "metadata": {
        "id": "Hw_5VVxfdouH"
      },
      "execution_count": 87,
      "outputs": []
    },
    {
      "cell_type": "markdown",
      "source": [
        "Pre Processing"
      ],
      "metadata": {
        "id": "fZIr4q3uiglE"
      }
    },
    {
      "cell_type": "code",
      "source": [
        "df.drop(columns=[\"fnlwgt\"], inplace=True)\n",
        "df.drop(columns=[\"education\"], inplace=True)"
      ],
      "metadata": {
        "id": "fkEdF15_ij_3"
      },
      "execution_count": 88,
      "outputs": []
    },
    {
      "cell_type": "code",
      "source": [
        "def auto_data_type(df):\n",
        "    for col in df.select_dtypes(include=[np.number]).columns:\n",
        "        min_value = df[col].min()\n",
        "        max_value = df[col].max()\n",
        "\n",
        "        if pd.api.types.is_float_dtype(df[col]):\n",
        "            df[col] = df[col].astype(np.float32)\n",
        "        elif min_value >= 0:\n",
        "            if max_value <= 255:\n",
        "                df[col] = df[col].astype(np.uint8)\n",
        "            elif max_value <= 65535:\n",
        "                df[col] = df[col].astype(np.uint16)\n",
        "            elif max_value <= 4294967295:\n",
        "                df[col] = df[col].astype(np.uint32)\n",
        "            else:\n",
        "                df[col] = df[col].astype(np.uint64)\n",
        "        else:\n",
        "            if -128 <= min_value and max_value <= 127:\n",
        "                df[col] = df[col].astype(np.int8)\n",
        "            elif -32768 <= min_value and max_value <= 32767:\n",
        "                df[col] = df[col].astype(np.int16)\n",
        "            elif -2147483648 <= min_value and max_value <= 2147483647:\n",
        "                df[col] = df[col].astype(np.int32)\n",
        "            else:\n",
        "                df[col] = df[col].astype(np.int64)\n",
        "auto_data_type(df)"
      ],
      "metadata": {
        "id": "czUP7aVpiota"
      },
      "execution_count": 89,
      "outputs": []
    },
    {
      "cell_type": "markdown",
      "source": [
        "پر کردن مقادیر خالی با مد آن ستون چون داده متنی داریم"
      ],
      "metadata": {
        "id": "zytYrPJ6ynEZ"
      }
    },
    {
      "cell_type": "code",
      "source": [
        "df.replace(\"?\", np.nan, inplace=True)\n",
        "\n",
        "df[\"workclass\"].fillna(df[\"workclass\"].mode()[0], inplace=True)\n",
        "df[\"occupation\"].fillna(df[\"occupation\"].mode()[0], inplace=True)\n",
        "df[\"native-country\"].fillna(df[\"native-country\"].mode()[0], inplace=True)\n"
      ],
      "metadata": {
        "id": "q1U1U8pspLEO"
      },
      "execution_count": null,
      "outputs": []
    },
    {
      "cell_type": "markdown",
      "source": [
        "مپ کردن مقادیر ستون ها با اعداد برای کاهش حجم دیتا  (می توان ستون اصلی را هم  در صورت نیاز پاک کرد)"
      ],
      "metadata": {
        "id": "uMZDlLKGy0K2"
      }
    },
    {
      "cell_type": "code",
      "source": [
        "df[\"sex\"] = df[\"sex\"].map({\"Male\": 0, \"Female\": 1})\n",
        "df[\"income\"] = df[\"income\"].map({\"<=50K\": 0, \">50K\": 1})\n",
        "df[\"sex\"] = df[\"sex\"].astype(np.uint8)\n",
        "df = df[df[\"income\"].notna()]\n",
        "df[\"income\"] = df[\"income\"].astype(np.uint8)\n",
        "\n",
        "\n",
        "df[\"marital_status_code\"] = df[\"marital-status\"].map({\n",
        "    \"Married-civ-spouse\": 0,\n",
        "    \"Married-spouse-absent\": 1,\n",
        "    \"Never-married\": 2,\n",
        "    \"Divorced\": 3,\n",
        "    \"Separated\": 4,\n",
        "    \"Widowed\": 5\n",
        "})\n",
        "df[\"marital_status_code\"] = df[\"marital_status_code\"].fillna(-1).astype(np.int8)\n",
        "\n",
        "\n",
        "\n",
        "df[\"race_code\"] = df[\"race\"].map({\n",
        "    \"White\": 0,\n",
        "    \"Black\": 1,\n",
        "    \"Asian-Pac-Islander\": 2,\n",
        "    \"Amer-Indian-Eskimo\": 3,\n",
        "    \"Other\": 4\n",
        "}).astype(np.uint8)\n",
        "\n",
        "df[\"relationship_code\"] = df[\"relationship\"].map({\n",
        "    \"Husband\": 0,\n",
        "    \"Not-in-family\": 1,\n",
        "    \"Own-child\": 2,\n",
        "    \"Unmarried\": 3,\n",
        "    \"Wife\": 4,\n",
        "    \"Other-relative\": 5\n",
        "}).astype(np.uint8)\n",
        "\n",
        "df[\"workclass_code\"] = df[\"workclass\"].map({\n",
        "    \"Private\": 0,\n",
        "    \"Self-emp-not-inc\": 1,\n",
        "    \"Self-emp-inc\": 2,\n",
        "    \"Federal-gov\": 3,\n",
        "    \"Local-gov\": 4,\n",
        "    \"State-gov\": 5,\n",
        "    \"Without-pay\": 6,\n",
        "    \"Never-worked\": 7,\n",
        "    \"Unknown\": 8\n",
        "}).astype(np.uint8)\n",
        "\n",
        "df[\"occupation_code\"] = df[\"occupation\"].map({\n",
        "    \"Tech-support\": 0,\n",
        "    \"Craft-repair\": 1,\n",
        "    \"Other-service\": 2,\n",
        "    \"Sales\": 3,\n",
        "    \"Exec-managerial\": 4,\n",
        "    \"Prof-specialty\": 5,\n",
        "    \"Handlers-cleaners\": 6,\n",
        "    \"Machine-op-inspct\": 7,\n",
        "    \"Adm-clerical\": 8,\n",
        "    \"Farming-fishing\": 9,\n",
        "    \"Transport-moving\": 10,\n",
        "    \"Priv-house-serv\": 11,\n",
        "    \"Protective-serv\": 12,\n",
        "    \"Armed-Forces\": 13,\n",
        "    \"Unknown\": 14\n",
        "})\n",
        "df[\"occupation_code\"] = df[\"occupation_code\"].fillna(-1).astype(np.int8)\n",
        "\n",
        "for col in [\"occupation_code\", \"marital_status_code\"]:\n",
        "    df[col] = df[col].replace(-1, df[col].mode()[0])\n",
        "    df[col]=df[col].astype(np.uint8)\n"
      ],
      "metadata": {
        "id": "A3e9JLWrm9qz"
      },
      "execution_count": null,
      "outputs": []
    }
  ]
}